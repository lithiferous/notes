﻿{
  "metadata": {
    "name": "fp_6",
    "kernelspec": {
      "language": "scala",
      "name": "spark2-scala"
    },
    "language_info": {
      "codemirror_mode": "text/x-scala",
      "file_extension": ".scala",
      "mimetype": "text/x-scala",
      "name": "scala",
      "pygments_lexer": "scala"
    }
  },
  "nbformat": 4,
  "nbformat_minor": 2,
  "cells": [
    {
      "cell_type": "markdown",
      "metadata": {},
      "source": " \n### Working with lists"
    },
    {
      "cell_type": "code",
      "execution_count": 1,
      "metadata": {
        "autoscroll": "auto"
      },
      "outputs": [],
      "source": "(1 to 10) filter (_ % 2 \u003d\u003d 0) map (_ * 2) reduce (_ * _)"
    },
    {
      "cell_type": "code",
      "execution_count": 2,
      "metadata": {
        "autoscroll": "auto"
      },
      "outputs": [],
      "source": "var factor \u003d 3\nval mult \u003d (i: Int) \u003d\u003e i * factor\n(1 to 10) filter (_ % 2 \u003d\u003d 0) map mult reduce (_ * _)"
    },
    {
      "cell_type": "code",
      "execution_count": 3,
      "metadata": {
        "autoscroll": "auto"
      },
      "outputs": [],
      "source": "factor \u003d 2\n(1 to 10) filter (_ % 2 \u003d\u003d 0) map mult reduce (_ * _)"
    },
    {
      "cell_type": "code",
      "execution_count": 4,
      "metadata": {
        "autoscroll": "auto"
      },
      "outputs": [],
      "source": "def m1(mult: Int \u003d\u003e Int){\n    (1 to 10) filter (_ % 2 \u003d\u003d 0) map mult reduce (_ * _)\n}\n\ndef m2: Int \u003d\u003e Int \u003d {\n    val factor \u003d 2\n    val mult \u003d (i: Int) \u003d\u003e i * factor\n    mult\n}"
    },
    {
      "cell_type": "code",
      "execution_count": 5,
      "metadata": {
        "autoscroll": "auto"
      },
      "outputs": [],
      "source": "object Multiplier{\n    val factor \u003d 3\n    def mult \u003d (i: Int) \u003d\u003e i * factor\n}\n\n(1 to 10) filter (_ % 2 \u003d\u003d 0) map Multiplier.mult reduce (_ * _)"
    },
    {
      "cell_type": "markdown",
      "metadata": {},
      "source": " \n### For loops"
    },
    {
      "cell_type": "code",
      "execution_count": 7,
      "metadata": {
        "autoscroll": "auto"
      },
      "outputs": [],
      "source": "import scala.annotation.tailrec\n@tailrec\nfinal def fact(i: BigInt): BigInt \u003d \n    if (i \u003d\u003d 1) i\n    else i * fact(i - 1)"
    },
    {
      "cell_type": "code",
      "execution_count": 8,
      "metadata": {
        "autoscroll": "auto"
      },
      "outputs": [],
      "source": "for(i \u003c- 1 to 10)\n    println(s\"$i: \\t${fact(i)}\")"
    },
    {
      "cell_type": "code",
      "execution_count": 9,
      "metadata": {
        "autoscroll": "auto"
      },
      "outputs": [],
      "source": "import scala.annotation.tailrec\n\ndef factorial(i: BigInt): BigInt \u003d {\n    @tailrec\n    def fact(i: BigInt, a: BigInt): BigInt \u003d {\n        if (i \u003c\u003d 1) a\n        else fact(i - 1, i * a)\n    }\n    fact(i, 1)\n}"
    },
    {
      "cell_type": "code",
      "execution_count": 10,
      "metadata": {
        "autoscroll": "auto"
      },
      "outputs": [],
      "source": "for(i \u003c- 1 to 10)\n    println(s\"$i:\\t${factorial(i)}\")"
    }
  ]
}